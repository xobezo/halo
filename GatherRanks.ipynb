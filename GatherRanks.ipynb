{
 "cells": [
  {
   "cell_type": "code",
   "execution_count": 1,
   "id": "39f7f510",
   "metadata": {},
   "outputs": [],
   "source": [
    "# Imports\n",
    "import json\n",
    "import requests\n",
    "import time\n",
    "import numpy as np\n",
    "import pandas as pd"
   ]
  },
  {
   "cell_type": "markdown",
   "id": "3bf8e8cc",
   "metadata": {},
   "source": [
    "### Collecting Rank Data\n",
    "\n",
    "Here we will be gathering rank data. I'll mostly just dump the data and deal with sorting it out more later on. That does mean the file will be large"
   ]
  },
  {
   "cell_type": "code",
   "execution_count": 2,
   "id": "aefaba13",
   "metadata": {},
   "outputs": [],
   "source": [
    "class HaloData():\n",
    "    def __init__(self,location=''):\n",
    "        \"\"\"\n",
    "        This class manages data for the users as it gathers more of them\n",
    "        \n",
    "        \"\"\"\n",
    "        self.data = self.fromfile(location)\n",
    "        self.gamemodes = {'4a2cedcc90984728886f60649896278d':\"3v3\",\n",
    "                          '379f9ee592ec45d9b5e59f30236cab00':\"2v2\",\n",
    "                          '548d864e8666430e91408dd2ad8fbfcd':'1v1'}\n",
    "        # Key for website\n",
    "        micro_key = \"\"\n",
    "        self.header = {\"Ocp-Apim-Subscription-Key\": micro_key}\n",
    "    \n",
    "    def gamertags(self,sort='',nasort = ''):\n",
    "        \"\"\"\n",
    "        Outputs all the usernames that have been collected so far.\n",
    "        \n",
    "        Parameters\n",
    "            sort (String): Which column you want the data sorted by\n",
    "        \n",
    "        Return:\n",
    "            (List): List of usernames\n",
    "        \n",
    "        \"\"\"\n",
    "        data = self.data\n",
    "        if sort != '':\n",
    "            data = self.data.sort_values(by=sort,ignore_index=True,na_position='first')\n",
    "        elif nasort !='':\n",
    "            data = self.data[self.data.isnull().any(axis=1)]\n",
    "        \n",
    "        return data['usernames']\n",
    "\n",
    "    def getRanks(self,players):\n",
    "        \"\"\"\n",
    "        Collects the MMR and rank for each player and stores it into the main table\n",
    "        \n",
    "        Parameters\n",
    "            players (List of Strings): Up to 6 players that will get collected for\n",
    "        \n",
    "        Return:\n",
    "            (List): All of the rank data for those players\n",
    "        \n",
    "        \n",
    "        \"\"\"\n",
    "        # I don't know what to output here\n",
    "        output = list()\n",
    "        \n",
    "        #Adding all the usernames into a single string\n",
    "        player = ''\n",
    "        for itm in players:\n",
    "            player +='{},'.format(itm)\n",
    "        player = player[:-1]\n",
    "\n",
    "        # Loops through the gamemodes\n",
    "        #The keys for the dictionary are the ID's that the API uses\n",
    "        for itm in self.gamemodes.keys():\n",
    "            # The request\n",
    "            website = 'https://www.haloapi.com/stats/hw2/playlist/{0}/rating?players={1}'.format(itm,player)\n",
    "            requestRaw = requests.get(website,headers= self.header)\n",
    "            time.sleep(1)\n",
    "            requestDict = json.JSONDecoder().decode(requestRaw.text)\n",
    "            \n",
    "            # Loops through each player and adds the data into the proper column\n",
    "            for item in requestDict['Results']:\n",
    "                name = item['Id']\n",
    "                mask = np.where(self.gamertags() == name)[0]\n",
    "                # Doesn't let you put dictionaries into a spot\n",
    "                self.data.at[mask,self.gamemodes[itm]] = [item['Result']]\n",
    "                \n",
    "            output.append(requestDict)\n",
    "        return output\n",
    "\n",
    "    def createfile(self,name):\n",
    "        data = self.data.sort_values(by='usernames',ignore_index=True)\n",
    "        data.to_csv(name,index=False)\n",
    "        return True\n",
    "    def fromfile(self,name):\n",
    "        return pd.read_csv(name)\n",
    "    "
   ]
  },
  {
   "cell_type": "code",
   "execution_count": 7,
   "id": "44216cb8",
   "metadata": {},
   "outputs": [],
   "source": [
    "halo_class = HaloData('ranks.csv')"
   ]
  },
  {
   "cell_type": "code",
   "execution_count": 8,
   "id": "56361ed5",
   "metadata": {},
   "outputs": [
    {
     "name": "stdout",
     "output_type": "stream",
     "text": [
      "0 0 7\n"
     ]
    }
   ],
   "source": [
    "# The list I'll be using\n",
    "names = halo_class.gamertags(nasort='yes')\n",
    "length = len(names)\n",
    "# for loop with steps of 6\n",
    "for i in range(0,length,6):\n",
    "    try:\n",
    "        # Basically checking that we aren't at the end\n",
    "        if i < (int(length-6)):\n",
    "            out = halo_class.getRanks(names[i:i+6])\n",
    "            print(int(i/6),i,length-i)\n",
    "        else:\n",
    "            out = halo_class.getRanks(names[i:(i+(length%6)-1)])\n",
    "    except KeyboardInterrupt:\n",
    "        break\n",
    "    # I know this is bad form but I just want to skip anyone who causes errors\n",
    "    except:\n",
    "        1+1"
   ]
  },
  {
   "cell_type": "code",
   "execution_count": null,
   "id": "10caefb2",
   "metadata": {},
   "outputs": [],
   "source": [
    "halo_class.createfile('ranks.csv')"
   ]
  },
  {
   "cell_type": "code",
   "execution_count": 9,
   "id": "f69fc9d3",
   "metadata": {},
   "outputs": [
    {
     "data": {
      "text/html": [
       "<div>\n",
       "<style scoped>\n",
       "    .dataframe tbody tr th:only-of-type {\n",
       "        vertical-align: middle;\n",
       "    }\n",
       "\n",
       "    .dataframe tbody tr th {\n",
       "        vertical-align: top;\n",
       "    }\n",
       "\n",
       "    .dataframe thead th {\n",
       "        text-align: right;\n",
       "    }\n",
       "</style>\n",
       "<table border=\"1\" class=\"dataframe\">\n",
       "  <thead>\n",
       "    <tr style=\"text-align: right;\">\n",
       "      <th></th>\n",
       "      <th>usernames</th>\n",
       "      <th>1v1</th>\n",
       "      <th>2v2</th>\n",
       "      <th>3v3</th>\n",
       "    </tr>\n",
       "  </thead>\n",
       "  <tbody>\n",
       "    <tr>\n",
       "      <th>90097</th>\n",
       "      <td>zzzzss</td>\n",
       "      <td>NaN</td>\n",
       "      <td>NaN</td>\n",
       "      <td>NaN</td>\n",
       "    </tr>\n",
       "  </tbody>\n",
       "</table>\n",
       "</div>"
      ],
      "text/plain": [
       "      usernames  1v1  2v2  3v3\n",
       "90097    zzzzss  NaN  NaN  NaN"
      ]
     },
     "execution_count": 9,
     "metadata": {},
     "output_type": "execute_result"
    }
   ],
   "source": [
    "# This one dude\n",
    "df = halo_class.data\n",
    "df[df.isnull().any(axis=1)]"
   ]
  },
  {
   "cell_type": "code",
   "execution_count": null,
   "id": "06b633aa",
   "metadata": {},
   "outputs": [],
   "source": []
  }
 ],
 "metadata": {
  "kernelspec": {
   "display_name": "Python 3 (ipykernel)",
   "language": "python",
   "name": "python3"
  },
  "language_info": {
   "codemirror_mode": {
    "name": "ipython",
    "version": 3
   },
   "file_extension": ".py",
   "mimetype": "text/x-python",
   "name": "python",
   "nbconvert_exporter": "python",
   "pygments_lexer": "ipython3",
   "version": "3.9.5"
  }
 },
 "nbformat": 4,
 "nbformat_minor": 5
}
