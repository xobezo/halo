{
 "cells": [
  {
   "cell_type": "markdown",
   "id": "3cf08f29",
   "metadata": {},
   "source": [
    "### Imports "
   ]
  },
  {
   "cell_type": "code",
   "execution_count": 7,
   "id": "33c91cd0",
   "metadata": {},
   "outputs": [],
   "source": [
    "from halo import halo\n",
    "from datetime import date\n",
    "from dateutil.relativedelta import *\n",
    "from dateutil.easter import *\n",
    "from dateutil.rrule import *\n",
    "from dateutil.parser import *\n",
    "from datetime import *\n",
    "from time import sleep\n",
    "import matplotlib.pyplot as plt"
   ]
  },
  {
   "cell_type": "code",
   "execution_count": 2,
   "id": "274a0623",
   "metadata": {},
   "outputs": [],
   "source": [
    "# creating the class that will hold all the data\n",
    "halo_class = halo('LastPlayedData.csv')"
   ]
  },
  {
   "cell_type": "code",
   "execution_count": 16,
   "id": "0216949d",
   "metadata": {},
   "outputs": [],
   "source": [
    "# Figuring out how to use datetime for this function\n",
    "datePlayed = halo_class.data[halo_class.gamertags()=='shabadabba']['LastPlayed']\n",
    "tmp = datePlayed.keys()[0]\n",
    "datePlayed = datePlayed[tmp]\n",
    "parsedtime = parse(datePlayed)"
   ]
  },
  {
   "cell_type": "code",
   "execution_count": 9,
   "id": "16bb3c6f",
   "metadata": {},
   "outputs": [
    {
     "data": {
      "text/plain": [
       "2021"
      ]
     },
     "execution_count": 9,
     "metadata": {},
     "output_type": "execute_result"
    }
   ],
   "source": [
    "# Found year\n",
    "parsedtime.year"
   ]
  },
  {
   "cell_type": "markdown",
   "id": "d484b594",
   "metadata": {},
   "source": [
    "### Pulling Out Last Played Month\n",
    "\n",
    "Here we will be pulling out the last month each player played"
   ]
  },
  {
   "cell_type": "code",
   "execution_count": 3,
   "id": "01351fec",
   "metadata": {},
   "outputs": [],
   "source": [
    "# This is what will hold this data\n",
    "output = {}\n",
    "# Mostly so I can break out of it if I want to\n",
    "try:\n",
    "    #Going to loop through each player\n",
    "    for itm in halo_class.gamertags():\n",
    "        # Getting the string version of when that player last played\n",
    "        datePlayed = halo_class.data[halo_class.gamertags()==itm]['LastPlayed']\n",
    "        # Numpy handles it a bit wierd. This isolates the text\n",
    "        tmp = datePlayed.keys()[0]\n",
    "        datePlayed = datePlayed[tmp]\n",
    "        \n",
    "        # Some names failed to collect so I just don't want to pass np.nan into this\n",
    "        # But it was like 100 that failed so most of them are here\n",
    "        if isinstance(datePlayed,str):\n",
    "            # Parse converts a string version to a datetime version\n",
    "            parsedtime = parse(datePlayed)\n",
    "            \n",
    "            # basically if the year isn't in the output this will add it\n",
    "            try:\n",
    "                year = parsedtime.year\n",
    "                output[year]\n",
    "                # This will check if the month is in it and add 1 if it is.\n",
    "                # If it isn't then this add it and sets its initial value to 1\n",
    "                try:\n",
    "                    month = parsedtime.month\n",
    "                    output[year][month] += 1\n",
    "                # Catches months that haven't been added\n",
    "                except KeyError:\n",
    "                    output[year][month] = 1\n",
    "            except KeyError:\n",
    "                output[year] = {}\n",
    "except KeyboardInterrupt:\n",
    "    1+1"
   ]
  },
  {
   "cell_type": "code",
   "execution_count": 4,
   "id": "44c27ba4",
   "metadata": {},
   "outputs": [
    {
     "data": {
      "text/plain": [
       "{2021: {12: 35738,\n",
       "  8: 4523,\n",
       "  11: 18809,\n",
       "  9: 5322,\n",
       "  10: 8305,\n",
       "  7: 3055,\n",
       "  1: 798,\n",
       "  5: 1598,\n",
       "  4: 1328,\n",
       "  3: 1088,\n",
       "  6: 2112,\n",
       "  2: 926},\n",
       " 2017: {10: 21,\n",
       "  7: 20,\n",
       "  3: 13,\n",
       "  5: 23,\n",
       "  4: 12,\n",
       "  8: 43,\n",
       "  11: 17,\n",
       "  9: 24,\n",
       "  2: 5,\n",
       "  12: 10,\n",
       "  6: 7},\n",
       " 2020: {9: 461,\n",
       "  12: 615,\n",
       "  4: 344,\n",
       "  8: 563,\n",
       "  3: 243,\n",
       "  7: 433,\n",
       "  10: 476,\n",
       "  11: 514,\n",
       "  1: 152,\n",
       "  6: 401,\n",
       "  5: 324,\n",
       "  2: 145},\n",
       " 2018: {12: 39,\n",
       "  10: 120,\n",
       "  7: 36,\n",
       "  9: 25,\n",
       "  11: 63,\n",
       "  8: 23,\n",
       "  1: 11,\n",
       "  5: 21,\n",
       "  6: 32,\n",
       "  4: 14,\n",
       "  3: 14,\n",
       "  2: 14},\n",
       " 2019: {11: 104,\n",
       "  8: 165,\n",
       "  6: 70,\n",
       "  12: 118,\n",
       "  10: 113,\n",
       "  9: 107,\n",
       "  1: 47,\n",
       "  7: 114,\n",
       "  3: 55,\n",
       "  5: 60,\n",
       "  2: 47,\n",
       "  4: 50}}"
      ]
     },
     "execution_count": 4,
     "metadata": {},
     "output_type": "execute_result"
    }
   ],
   "source": [
    "# Here's the output of the above script\n",
    "output"
   ]
  },
  {
   "cell_type": "markdown",
   "id": "7908bebe",
   "metadata": {},
   "source": [
    "### Making the Graph"
   ]
  },
  {
   "cell_type": "markdown",
   "id": "46f43fa9",
   "metadata": {},
   "source": [
    "These are the cells that will calculate how many players are in each category. There is a better way to do this and that will be done later"
   ]
  },
  {
   "cell_type": "code",
   "execution_count": null,
   "id": "d9859013",
   "metadata": {},
   "outputs": [],
   "source": [
    "count2021 = 0\n",
    "for key in output[2021]:\n",
    "    if not(key==12 or key==11 or key==10):\n",
    "        count2021+= output[2021][key]"
   ]
  },
  {
   "cell_type": "code",
   "execution_count": 16,
   "id": "29d83bd0",
   "metadata": {},
   "outputs": [],
   "source": [
    "count2020 = 0\n",
    "for key in output[2020]:\n",
    "    count2020+= output[2020][key]"
   ]
  },
  {
   "cell_type": "code",
   "execution_count": 19,
   "id": "c73cb730",
   "metadata": {},
   "outputs": [],
   "source": [
    "count2019 = 0\n",
    "for key in output[2019]:\n",
    "    count2019+= output[2019][key]"
   ]
  },
  {
   "cell_type": "code",
   "execution_count": 32,
   "id": "863ee31d",
   "metadata": {},
   "outputs": [
    {
     "data": {
      "image/png": "[encoded data removed]",
      "text/plain": [
       "<Figure size 432x288 with 1 Axes>"
      ]
     },
     "metadata": {
      "needs_background": "light"
     },
     "output_type": "display_data"
    }
   ],
   "source": [
    "# Defining the plot\n",
    "fig = plt.figure()\n",
    "ax = fig.add_axes([0,0,1,1])\n",
    "\n",
    "# Data\n",
    "months = ['December', 'November','October' ,'The Rest of 2021']\n",
    "data = [output[2021][12],output[2021][11],output[2021][10],count2021]\n",
    "ax.bar(months,data)\n",
    "\n",
    "# Set labels\n",
    "ax.set_title(\"Number of Players Playing Each Month\")\n",
    "ax.set_xlabel('Time Period')\n",
    "ax.set_ylabel('Number of Players')\n",
    "ax.grid(True)\n",
    "\n",
    "# Show the plot\n",
    "plt.show()"
   ]
  },
  {
   "cell_type": "code",
   "execution_count": null,
   "id": "5f5fa6c0",
   "metadata": {},
   "outputs": [],
   "source": []
  }
 ],
 "metadata": {
  "kernelspec": {
   "display_name": "Python 3 (ipykernel)",
   "language": "python",
   "name": "python3"
  },
  "language_info": {
   "codemirror_mode": {
    "name": "ipython",
    "version": 3
   },
   "file_extension": ".py",
   "mimetype": "text/x-python",
   "name": "python",
   "nbconvert_exporter": "python",
   "pygments_lexer": "ipython3",
   "version": "3.9.5"
  }
 },
 "nbformat": 4,
 "nbformat_minor": 5
}
