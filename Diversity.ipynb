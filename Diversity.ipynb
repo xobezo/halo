{
 "cells": [
  {
   "cell_type": "code",
   "execution_count": null,
   "id": "13c7ed2a",
   "metadata": {},
   "outputs": [],
   "source": [
    "import json\n",
    "import requests\n",
    "import time\n",
    "import numpy as np\n",
    "import pandas as pd\n",
    "\n",
    "# Key for website\n",
    "micro_key = \"\"\n",
    "header = {\"Ocp-Apim-Subscription-Key\": micro_key}"
   ]
  },
  {
   "cell_type": "markdown",
   "id": "a443cc6d",
   "metadata": {},
   "source": [
    "## Goal\n",
    "\n",
    "I want to start off with a basic idea of how distributed the player base I have is "
   ]
  },
  {
   "cell_type": "markdown",
   "id": "6c612aff",
   "metadata": {},
   "source": [
    "### Checking Range of Levels"
   ]
  },
  {
   "cell_type": "code",
   "execution_count": null,
   "id": "7895038d",
   "metadata": {},
   "outputs": [],
   "source": []
  },
  {
   "cell_type": "markdown",
   "id": "e45d7ffe",
   "metadata": {},
   "source": [
    "### Distribution of Max Rank"
   ]
  },
  {
   "cell_type": "code",
   "execution_count": null,
   "id": "5a4ceddb",
   "metadata": {},
   "outputs": [],
   "source": []
  }
 ],
 "metadata": {
  "kernelspec": {
   "display_name": "Python 3 (ipykernel)",
   "language": "python",
   "name": "python3"
  },
  "language_info": {
   "codemirror_mode": {
    "name": "ipython",
    "version": 3
   },
   "file_extension": ".py",
   "mimetype": "text/x-python",
   "name": "python",
   "nbconvert_exporter": "python",
   "pygments_lexer": "ipython3",
   "version": "3.9.5"
  }
 },
 "nbformat": 4,
 "nbformat_minor": 5
}
