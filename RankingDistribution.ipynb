{
 "cells": [
  {
   "cell_type": "markdown",
   "id": "a4c6f06e",
   "metadata": {},
   "source": [
    "### Imports"
   ]
  },
  {
   "cell_type": "code",
   "execution_count": 91,
   "id": "9cb04503",
   "metadata": {},
   "outputs": [],
   "source": [
    "from halo import halo\n",
    "import json\n",
    "import ast\n",
    "import numpy as np\n",
    "import matplotlib.pyplot as plt\n",
    "%matplotlib inline"
   ]
  },
  {
   "cell_type": "markdown",
   "id": "0b951951",
   "metadata": {},
   "source": [
    "### Choose Mode\n",
    "\n",
    "Select which mode to look at"
   ]
  },
  {
   "cell_type": "code",
   "execution_count": 109,
   "id": "c9b407b2",
   "metadata": {},
   "outputs": [],
   "source": [
    "mode = ['1v1',\n",
    "        '2v2',\n",
    "        '3v3'][2]"
   ]
  },
  {
   "cell_type": "markdown",
   "id": "0d314ace",
   "metadata": {},
   "source": [
    "### Important Variables"
   ]
  },
  {
   "cell_type": "code",
   "execution_count": 49,
   "id": "90b13d31",
   "metadata": {},
   "outputs": [],
   "source": [
    "halo_class = halo('ranks.csv')\n",
    "ranks = ['Bronze',\n",
    "         'Silver',\n",
    "         'Gold',\n",
    "         'Platinum',\n",
    "         'Diamond',\n",
    "         'Onyx',\n",
    "        'Champion']"
   ]
  },
  {
   "cell_type": "markdown",
   "id": "380bedc1",
   "metadata": {},
   "source": [
    "### Main Loop"
   ]
  },
  {
   "cell_type": "code",
   "execution_count": 110,
   "id": "98a4434d",
   "metadata": {},
   "outputs": [],
   "source": [
    "# Will hold all the data for anyone who has a rank\n",
    "output = []\n",
    "# Curious as to how many aren't ranked. It also allowed me to check my loop\n",
    "Nonecount = 0\n",
    "\n",
    "for itm in halo_class.data[mode]:\n",
    "    # Making sure it isn't np.nan\n",
    "    if isinstance(itm,str):\n",
    "        item = ast.literal_eval(itm)\n",
    "        rank = item[0]['Csr']['Tier']\n",
    "        # Making sure they have a rank\n",
    "        if rank != None:\n",
    "            output.append(item[0])\n",
    "        else:\n",
    "            Nonecount += 1\n",
    "    else:\n",
    "        Nonecount += 1"
   ]
  },
  {
   "cell_type": "markdown",
   "id": "0c3409b2",
   "metadata": {},
   "source": [
    "### Rank Distribution"
   ]
  },
  {
   "cell_type": "code",
   "execution_count": 111,
   "id": "c5e375af",
   "metadata": {},
   "outputs": [],
   "source": [
    "ranksDic = dict()\n",
    "for itm in output:\n",
    "    rankNum = itm['Csr']['Designation']\n",
    "    rank = ranks[rankNum-1]\n",
    "    try:\n",
    "        ranksDic[rank] += 1\n",
    "    except KeyError:\n",
    "        ranksDic[rank] = 1"
   ]
  },
  {
   "cell_type": "code",
   "execution_count": 112,
   "id": "adb16891",
   "metadata": {},
   "outputs": [
    {
     "data": {
      "image/png": "[encoded data removed]",
      "text/plain": [
       "<Figure size 432x288 with 1 Axes>"
      ]
     },
     "metadata": {
      "needs_background": "light"
     },
     "output_type": "display_data"
    }
   ],
   "source": [
    "# Defining the plot\n",
    "fig = plt.figure()\n",
    "ax = fig.add_axes([0,0,1,1])\n",
    "\n",
    "# Data\n",
    "months = [*ranks]\n",
    "data = []\n",
    "for itm in ranks:\n",
    "    data.append(ranksDic[itm])\n",
    "ax.bar(months,data)\n",
    "\n",
    "# Annotating the bar plot with the values\n",
    "for i in range(len(data)):\n",
    "    plt.annotate(data[i], (i-0.2, data[i]+30))\n",
    "\n",
    "\n",
    "# Set labels\n",
    "ax.set_title(\"Rank Distribution in {}\".format(mode))\n",
    "ax.set_xlabel('Rank')\n",
    "ax.set_ylabel('Number of Players')\n",
    "ax.grid(True,axis='y')\n",
    "\n",
    "# Saving the plot as a 'png'\n",
    "plt.savefig(mode + '.jpg', dpi=300, bbox_inches='tight')"
   ]
  },
  {
   "cell_type": "code",
   "execution_count": 69,
   "id": "f57d429d",
   "metadata": {},
   "outputs": [
    {
     "name": "stdout",
     "output_type": "stream",
     "text": [
      "Bronze Silver Gold Platinum Diamond Onyx Champion\n"
     ]
    }
   ],
   "source": [
    "print(*ranks)"
   ]
  },
  {
   "cell_type": "code",
   "execution_count": null,
   "id": "b64cc386",
   "metadata": {},
   "outputs": [],
   "source": []
  }
 ],
 "metadata": {
  "kernelspec": {
   "display_name": "Python 3 (ipykernel)",
   "language": "python",
   "name": "python3"
  },
  "language_info": {
   "codemirror_mode": {
    "name": "ipython",
    "version": 3
   },
   "file_extension": ".py",
   "mimetype": "text/x-python",
   "name": "python",
   "nbconvert_exporter": "python",
   "pygments_lexer": "ipython3",
   "version": "3.9.5"
  }
 },
 "nbformat": 4,
 "nbformat_minor": 5
}
